from keras.preprocessing.image import ImageDataGenerator
train_datagen = ImageDataGenerator(rescale = 1./255,shear_range=0.2,zoom_range=0.2,horizontal_flip=True)
test_datagen = ImageDataGenerator(rescale = 1./255)
x_train = train_datagen.flow_from_directory(r'C:\Users\HP\Desktop\data_set\TRAIN_SET',target_size = (64,64) ,batch_size = 5,color_mode='rgb',class_mode = 'sparse')
x_test = test_datagen.flow_from_directory(r'C:\Users\HP\Desktop\data_set\TEST_SET-20221101T044129Z-001\TEST_SET',target_size = (64,64) ,batch_size = 5,color_mode='rgb',class_mode = 'sparse')
Found 2626 images belonging to 1 classes.
Found 1055 images belonging to 5 classes.
import numpy as np #used for numerical analysis
import tensorflow #open source used for both ML and DL for computatio
from tensorflow.keras.models import Sequential #it is a palin stack of layer 
from tensorflow.keras.layers import Layer #Alayer consists of a tensor-in tensor-out computation function
from tensorflow.keras.layers import Dense,Flatten #flattening the input or change the dimension
from tensorflow.keras.layers import Conv2D,MaxPooling2D,Dropout #convolution layer , MaxPooling2D-for downsampling the image
from keras.preprocessing.image import ImageDataGenerator
model=Sequential()
model.add(Conv2D(32,(3,3),input_shape=(64,64,3),activation='relu'))
model.add(MaxPooling2D(pool_size =(2,2)))
model.add(Conv2D(32,(3,3),activation='relu'))
model.add(MaxPooling2D(pool_size =(2,2)))
model.add(Flatten())
model.add(Dense(units=128,activation='relu'))
model.add(Dense(units=128,activation='softmax'))
model.summary
>
model.compile(optimizer='adam',loss='sparse_categorical_crossentropy',metrics=['accuracy'])
model.fit_generator(
generator=x_train,steps_per_epoch=len(x_train),
epochs=20,validation_data=x_test,validation_steps=len(x_test))
C:\Users\HP\AppData\Local\Temp\ipykernel_14884\3377000683.py:1: UserWarning: `Model.fit_generator` is deprecated and will be removed in a future version. Please use `Model.fit`, which supports generators.
  model.fit_generator(
Epoch 1/20
526/526 [==============================] - 52s 97ms/step - loss: 0.0187 - accuracy: 0.9981 - val_loss: 136.6528 - val_accuracy: 0.1488
Epoch 2/20
526/526 [==============================] - 15s 28ms/step - loss: 0.0000e+00 - accuracy: 1.0000 - val_loss: 136.6529 - val_accuracy: 0.1488
Epoch 3/20
526/526 [==============================] - 15s 29ms/step - loss: 0.0000e+00 - accuracy: 1.0000 - val_loss: 136.6528 - val_accuracy: 0.1488
Epoch 4/20
526/526 [==============================] - 16s 30ms/step - loss: 0.0000e+00 - accuracy: 1.0000 - val_loss: 136.6528 - val_accuracy: 0.1488
Epoch 5/20
526/526 [==============================] - 21s 39ms/step - loss: 0.0000e+00 - accuracy: 1.0000 - val_loss: 136.6528 - val_accuracy: 0.1488
Epoch 6/20
526/526 [==============================] - 16s 29ms/step - loss: 0.0000e+00 - accuracy: 1.0000 - val_loss: 136.6528 - val_accuracy: 0.1488
Epoch 7/20
526/526 [==============================] - 16s 30ms/step - loss: 0.0000e+00 - accuracy: 1.0000 - val_loss: 136.6528 - val_accuracy: 0.1488
Epoch 8/20
526/526 [==============================] - 15s 28ms/step - loss: 0.0000e+00 - accuracy: 1.0000 - val_loss: 136.6528 - val_accuracy: 0.1488
Epoch 9/20
526/526 [==============================] - 15s 28ms/step - loss: 0.0000e+00 - accuracy: 1.0000 - val_loss: 136.6528 - val_accuracy: 0.1488
Epoch 10/20
526/526 [==============================] - 15s 28ms/step - loss: 0.0000e+00 - accuracy: 1.0000 - val_loss: 136.6528 - val_accuracy: 0.1488
Epoch 11/20
526/526 [==============================] - 15s 28ms/step - loss: 0.0000e+00 - accuracy: 1.0000 - val_loss: 136.6528 - val_accuracy: 0.1488
Epoch 12/20
526/526 [==============================] - 15s 28ms/step - loss: 0.0000e+00 - accuracy: 1.0000 - val_loss: 136.6528 - val_accuracy: 0.1488
Epoch 13/20
526/526 [==============================] - 16s 30ms/step - loss: 0.0000e+00 - accuracy: 1.0000 - val_loss: 136.6529 - val_accuracy: 0.1488
Epoch 14/20
526/526 [==============================] - 24s 45ms/step - loss: 0.0000e+00 - accuracy: 1.0000 - val_loss: 136.6528 - val_accuracy: 0.1488
Epoch 15/20
526/526 [==============================] - 22s 43ms/step - loss: 0.0000e+00 - accuracy: 1.0000 - val_loss: 136.6528 - val_accuracy: 0.1488
Epoch 16/20
526/526 [==============================] - 15s 28ms/step - loss: 0.0000e+00 - accuracy: 1.0000 - val_loss: 136.6528 - val_accuracy: 0.1488
Epoch 17/20
526/526 [==============================] - 15s 28ms/step - loss: 0.0000e+00 - accuracy: 1.0000 - val_loss: 136.6528 - val_accuracy: 0.1488
Epoch 18/20
526/526 [==============================] - 15s 28ms/step - loss: 0.0000e+00 - accuracy: 1.0000 - val_loss: 136.6528 - val_accuracy: 0.1488
Epoch 19/20
526/526 [==============================] - 15s 29ms/step - loss: 0.0000e+00 - accuracy: 1.0000 - val_loss: 136.6528 - val_accuracy: 0.1488
Epoch 20/20
526/526 [==============================] - 15s 29ms/step - loss: 0.0000e+00 - accuracy: 1.0000 - val_loss: 136.6528 - val_accuracy: 0.1488
