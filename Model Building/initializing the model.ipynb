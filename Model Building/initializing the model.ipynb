import numpy as np #used for numerical analysis
import tensorflow #open source used for both ML and DL for computatio
from tensorflow.keras.models import Sequential #it is a palin stack of layer 
from tensorflow.keras.layers import Layer #Alayer consists of a tensor-in tensor-out computation function
from tensorflow.keras.layers import Dense,Flatten #flattening the input or change the dimension
from tensorflow.keras.layers import Conv2D,MaxPooling2D,Dropout #convolution layer , MaxPooling2D-for downsampling the image
from keras.preprocessing.image import ImageDataGenerator
model=Sequential()