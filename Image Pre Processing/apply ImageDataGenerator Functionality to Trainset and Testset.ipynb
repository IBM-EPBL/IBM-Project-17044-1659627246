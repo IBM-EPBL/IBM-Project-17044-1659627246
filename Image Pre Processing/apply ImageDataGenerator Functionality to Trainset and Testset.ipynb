from keras.preprocessing.image import ImageDataGenerator
train_datagen = ImageDataGenerator(rescale = 1./255,shear_range=0.2,zoom_range=0.2,horizontal_flip=True)
test_datagen = ImageDataGenerator(rescale = 1./255)
x_train = train_datagen.flow_from_directory(r'C:\Users\HP\Desktop\data_set\TRAIN_SET',target_size = (64,64) ,batch_size = 5,color_mode='rgb',class_mode = 'sparse')
x_test = test_datagen.flow_from_directory(r'C:\Users\HP\Desktop\data_set\TEST_SET-20221101T044129Z-001\TEST_SET',target_size = (64,64) ,batch_size = 5,color_mode='rgb',class_mode = 'sparse')
Found 2626 images belonging to 1 classes.
Found 1055 images belonging to 5 classes.